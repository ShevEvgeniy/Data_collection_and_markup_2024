{
 "cells": [
  {
   "cell_type": "markdown",
   "metadata": {},
   "source": [
    "## Задачи 3 - 7:\n",
    "3. Сценарий Foursquare\n",
    "4. Напишите сценарий на языке Python, который предложит пользователю ввести интересующую его категорию (например, кофейни, музеи, парки и т.д.).\n",
    "5. Используйте API Foursquare для поиска заведений в указанной категории.\n",
    "6. Получите название заведения, его адрес и рейтинг для каждого из них.\n",
    "7. Скрипт должен вывести название и адрес и рейтинг каждого заведения в консоль."
   ]
  },
  {
   "cell_type": "code",
   "execution_count": 2,
   "metadata": {},
   "outputs": [
    {
     "name": "stdout",
     "output_type": "stream",
     "text": [
      "Collecting fake-useragent\n",
      "  Downloading fake_useragent-1.5.1-py3-none-any.whl.metadata (15 kB)\n",
      "Downloading fake_useragent-1.5.1-py3-none-any.whl (17 kB)\n",
      "Installing collected packages: fake-useragent\n",
      "Successfully installed fake-useragent-1.5.1\n"
     ]
    }
   ],
   "source": [
    "!pip install --upgrade fake-useragent"
   ]
  },
  {
   "cell_type": "code",
   "execution_count": 3,
   "metadata": {},
   "outputs": [],
   "source": [
    "import os\n",
    "import requests\n",
    "from dotenv import load_dotenv\n",
    "from fake_useragent import UserAgent\n",
    "from pprint import pprint"
   ]
  },
  {
   "cell_type": "code",
   "execution_count": 4,
   "metadata": {},
   "outputs": [],
   "source": [
    "ua = UserAgent() #### для указания \"браузера\""
   ]
  },
  {
   "cell_type": "code",
   "execution_count": 5,
   "metadata": {},
   "outputs": [],
   "source": [
    "category = input(\"Введите название интересующей Вас категории на английском языке (например: Park, Zoos, Museums и т.п.) : \")"
   ]
  },
  {
   "cell_type": "code",
   "execution_count": 6,
   "metadata": {},
   "outputs": [],
   "source": [
    "url = \"https://api.foursquare.com/v3/places/search\""
   ]
  },
  {
   "cell_type": "code",
   "execution_count": 7,
   "metadata": {},
   "outputs": [],
   "source": [
    "params = {\n",
    "    'limit': 50,\n",
    "    'query': category,\n",
    "    'fields': 'name,location,rating'\n",
    "}"
   ]
  },
  {
   "cell_type": "code",
   "execution_count": 8,
   "metadata": {},
   "outputs": [],
   "source": [
    "headers = {\n",
    "    \"User-Agent\": ua.firefox,\n",
    "    \"Accept\": \"application/json\",\n",
    "    \"Authorization\": \"fsq3P6zWw5hrHAp69JoTu+0TFeYEBCEXDIo7+Ivypcz/4Uo=\"\n",
    "}"
   ]
  },
  {
   "cell_type": "code",
   "execution_count": 9,
   "metadata": {},
   "outputs": [],
   "source": [
    "response = requests.request(\"GET\", url, params=params, headers=headers)"
   ]
  },
  {
   "cell_type": "code",
   "execution_count": 10,
   "metadata": {},
   "outputs": [
    {
     "name": "stdout",
     "output_type": "stream",
     "text": [
      "Успешный запрос API по URL:  https://api.foursquare.com/v3/places/search?limit=50&query=Park%2C+Zoos%2C+Museums&fields=name%2Clocation%2Crating\n"
     ]
    }
   ],
   "source": [
    "if response.status_code == 200:\n",
    "    print(\"Успешный запрос API по URL: \", response.url)\n",
    "else:\n",
    "    print(\"Запрос API отклонен с кодом состояния:\", response.status_code)"
   ]
  },
  {
   "cell_type": "code",
   "execution_count": 11,
   "metadata": {},
   "outputs": [],
   "source": [
    "data = response.json()\n",
    "### pprint(data) ### для отображения структуры ответа "
   ]
  },
  {
   "cell_type": "code",
   "execution_count": 12,
   "metadata": {},
   "outputs": [],
   "source": [
    "establishments = []\n",
    "for place in data['results']:\n",
    "    place_name = place.get('name')\n",
    "    place_address = place.get('location')['formatted_address']\n",
    "    place_rating = place.get('rating') if 'rating' in place else \"Рейтинг не определялся\"\n",
    "    establishments.append({'name': place_name, 'address': place_address, 'rating': place_rating})\n"
   ]
  },
  {
   "cell_type": "code",
   "execution_count": 13,
   "metadata": {},
   "outputs": [
    {
     "name": "stdout",
     "output_type": "stream",
     "text": [
      "Название: Park Bistro\n",
      "Адрес: Александровский сад, 603005, Нижний Новгород\n",
      "Рейтинг: Рейтинг не определялся\n",
      "\n",
      "Название: Marins Park Hotel (Маринс Парк)\n",
      "Адрес: Советская Ул., д. 12, Нижний Новгород\n",
      "Рейтинг: 5.9\n",
      "\n",
      "Название: Marins Park Hotel\n",
      "Адрес: Ул. Советская, д. 12, Nizhni Novgorod, Russia (ул. Советская, 12), Нижний Новгород\n",
      "Рейтинг: 5.6\n",
      "\n",
      "Название: Clean Park\n",
      "Адрес: Ошарская 95/2, 603105, Нижний Новгород\n",
      "Рейтинг: Рейтинг не определялся\n",
      "\n",
      "Название: Park Wood\n",
      "Адрес: Алексеевская, 24/27, Нижний Новгород\n",
      "Рейтинг: Рейтинг не определялся\n",
      "\n",
      "Название: Crazy park, семейный развлекательный центр\n",
      "Адрес: Родионова, 187, Нижний Новгород\n",
      "Рейтинг: Рейтинг не определялся\n",
      "\n",
      "Название: Отель Les&park\n",
      "Адрес: Анкудиновское ш., 4, Нижний Новгород\n",
      "Рейтинг: Рейтинг не определялся\n",
      "\n"
     ]
    }
   ],
   "source": [
    "for establishment in establishments:\n",
    "        print(f\"Название: {establishment['name']}\")\n",
    "        print(f\"Адрес: {establishment['address']}\")\n",
    "        print(f\"Рейтинг: {establishment['rating']}\")\n",
    "        print()"
   ]
  }
 ],
 "metadata": {
  "kernelspec": {
   "display_name": "Python 3.11.5 64-bit",
   "language": "python",
   "name": "python3"
  },
  "language_info": {
   "codemirror_mode": {
    "name": "ipython",
    "version": 3
   },
   "file_extension": ".py",
   "mimetype": "text/x-python",
   "name": "python",
   "nbconvert_exporter": "python",
   "pygments_lexer": "ipython3",
   "version": "3.11.5"
  },
  "orig_nbformat": 4,
  "vscode": {
   "interpreter": {
    "hash": "5238573367df39f7286bb46f9ff5f08f63a01a80960060ce41e3c79b190280fa"
   }
  }
 },
 "nbformat": 4,
 "nbformat_minor": 2
}
