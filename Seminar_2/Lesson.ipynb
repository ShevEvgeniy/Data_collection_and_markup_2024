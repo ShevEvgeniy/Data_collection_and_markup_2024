{
 "cells": [
  {
   "cell_type": "code",
   "execution_count": 1,
   "metadata": {},
   "outputs": [],
   "source": [
    "import requests\n",
    "from bs4 import BeautifulSoup\n",
    "import json\n",
    "import re"
   ]
  },
  {
   "cell_type": "code",
   "execution_count": 2,
   "metadata": {},
   "outputs": [],
   "source": [
    "# Формирование исходных URL\n",
    "base_url = \"http://books.toscrape.com/\"\n",
    "url = base_url + \"catalogue/page-1.html\""
   ]
  },
  {
   "cell_type": "code",
   "execution_count": 3,
   "metadata": {},
   "outputs": [],
   "source": [
    "pages_counter = 0 ### для подсчета количества обработанных веб-страниц\n",
    "books = [] ### для сохранения распарсенных книг "
   ]
  },
  {
   "cell_type": "code",
   "execution_count": 7,
   "metadata": {},
   "outputs": [
    {
     "name": "stdout",
     "output_type": "stream",
     "text": [
      "\n",
      "Cкрапинг страницы № 48\n",
      "Добавили книгу The Bhagavad Gita\n",
      "Добавили книгу The Bette Davis Club\n",
      "Добавили книгу The Art of Not Breathing\n",
      "Добавили книгу Taking Shots (Assassins #1)\n",
      "Добавили книгу Starlark\n",
      "Добавили книгу Skip Beat!, Vol. 01 (Skip Beat! #1)\n",
      "Добавили книгу Sister Sable (The Mad Queen #1)\n",
      "Добавили книгу Shatter Me (Shatter Me #1)\n",
      "Добавили книгу Shameless\n",
      "Добавили книгу Shadow Rites (Jane Yellowrock #10)\n",
      "Добавили книгу Settling the Score (The Summer Games #1)\n",
      "Добавили книгу Sense and Sensibility\n",
      "Добавили книгу Saga, Volume 1 (Saga (Collected Editions) #1)\n",
      "Добавили книгу Rhythm, Chord & Malykhin\n",
      "Добавили книгу Rat Queens, Vol. 1: Sass & Sorcery (Rat Queens (Collected Editions) #1-5)\n",
      "Добавили книгу Paradise Lost (Paradise #1)\n",
      "Добавили книгу Paper Girls, Vol. 1 (Paper Girls #1-5)\n",
      "Добавили книгу Ouran High School Host Club, Vol. 1 (Ouran High School Host Club #1)\n",
      "Добавили книгу Origins (Alphas 0.5)\n",
      "Добавили книгу One Second (Seven #7)\n",
      "\n",
      "Cкрапинг страницы № 49\n",
      "Добавили книгу On the Road (Duluoz Legend)\n",
      "Добавили книгу Old Records Never Die: One Man's Quest for His Vinyl and His Past\n",
      "Добавили книгу Off Sides (Off #1)\n",
      "Добавили книгу Of Mice and Men\n",
      "Добавили книгу Myriad (Prentor #1)\n",
      "Добавили книгу My Perfect Mistake (Over the Top #1)\n",
      "Добавили книгу Ms. Marvel, Vol. 1: No Normal (Ms. Marvel (2014-2015) #1)\n",
      "Добавили книгу Meditations\n",
      "Добавили книгу Matilda\n",
      "Добавили книгу Lost Among the Living\n",
      "Добавили книгу Lord of the Flies\n",
      "Добавили книгу Listen to Me (Fusion #1)\n",
      "Добавили книгу Kitchens of the Great Midwest\n",
      "Добавили книгу Jane Eyre\n",
      "Добавили книгу Imperfect Harmony\n",
      "Добавили книгу Icing (Aces Hockey #2)\n",
      "Добавили книгу Hawkeye, Vol. 1: My Life as a Weapon (Hawkeye #1)\n",
      "Добавили книгу Having the Barbarian's Baby (Ice Planet Barbarians #7.5)\n",
      "Добавили книгу Giant Days, Vol. 1 (Giant Days #1-4)\n",
      "Добавили книгу Fruits Basket, Vol. 1 (Fruits Basket #1)\n",
      "\n",
      "Cкрапинг страницы № 50\n",
      "Добавили книгу Frankenstein\n",
      "Добавили книгу Forever Rockers (The Rocker #12)\n",
      "Добавили книгу Fighting Fate (Fighting #6)\n",
      "Добавили книгу Emma\n",
      "Добавили книгу Eat, Pray, Love\n",
      "Добавили книгу Deep Under (Walker Security #1)\n",
      "Добавили книгу Choosing Our Religion: The Spiritual Lives of America's Nones\n",
      "Добавили книгу Charlie and the Chocolate Factory (Charlie Bucket #1)\n",
      "Добавили книгу Charity's Cross (Charles Towne Belles #4)\n",
      "Добавили книгу Bright Lines\n",
      "Добавили книгу Bridget Jones's Diary (Bridget Jones #1)\n",
      "Добавили книгу Bounty (Colorado Mountain #7)\n",
      "Добавили книгу Blood Defense (Samantha Brinkman #1)\n",
      "Добавили книгу Bleach, Vol. 1: Strawberry and the Soul Reapers (Bleach #1)\n",
      "Добавили книгу Beyond Good and Evil\n",
      "Добавили книгу Alice in Wonderland (Alice's Adventures in Wonderland #1)\n",
      "Добавили книгу Ajin: Demi-Human, Volume 1 (Ajin: Demi-Human #1)\n",
      "Добавили книгу A Spy's Devotion (The Regency Spies of London #1)\n",
      "Добавили книгу 1st to Die (Women's Murder Club #1)\n",
      "Добавили книгу 1,000 Places to See Before You Die\n"
     ]
    }
   ],
   "source": [
    "while url:\n",
    "    print(\"\\nCкрапинг страницы №\", pages_counter+1)\n",
    "    # Отправка GET запроса по URL\n",
    "    response = requests.get(url)\n",
    "\n",
    "    # Парсинг HTML страницы с использованием BeautifulSoup\n",
    "    soup = BeautifulSoup(response.text, \"html.parser\")\n",
    "\n",
    "    h3_tags = soup.find_all(\"h3\")\n",
    "\n",
    "    for h3_tag in h3_tags:\n",
    "\n",
    "        # Поиск тега <a> \n",
    "        a_tag = h3_tag.find(\"a\", href=True)\n",
    "\n",
    "        # Создание ссылки на страницу книги\n",
    "        book_url = base_url + \"catalogue/\" + a_tag[\"href\"]\n",
    "\n",
    "        # Отправка запроса по ссылке на книгу\n",
    "        book_response = requests.get(book_url)\n",
    "\n",
    "        # Парсинг страницы книги\n",
    "        book_soup = BeautifulSoup(book_response.text, \"html.parser\")\n",
    "\n",
    "        ### экстракция требуемых данных о книге\n",
    "        title = book_soup.find(\"h1\").text.strip()\n",
    "        price = float(book_soup.find(\"p\", class_=\"price_color\").text.strip().replace(\"Â\\u00a3\", \"\"))\n",
    "        stock = int(re.findall(r'\\d+', book_soup.find(\"p\", class_=\"instock availability\").text.strip())[0])\n",
    "        description = book_soup.find(\"meta\", attrs={\"name\": \"description\"})[\"content\"]\n",
    "\n",
    "        # Добавление информации о книге в общий список\n",
    "        books.append({\n",
    "                \"Название\": title,\n",
    "                \"Цена в фунтах стерлингов\": price,\n",
    "                \"Количество в наличии\": stock,\n",
    "                \"Описание\": description\n",
    "            })\n",
    "        print(\"Добавили книгу\", title)\n",
    "    \n",
    "    next_button = soup.find('a', string='next')\n",
    "        \n",
    "    ### Проверка, есть ли ссылка \"next\" на следующую страницу\n",
    "    if next_button:\n",
    "        url = base_url + \"catalogue/\" + next_button['href']\n",
    "        pages_counter += 1\n",
    "    else:\n",
    "        url = None  # если ссылки нет - выходим из цикла while"
   ]
  },
  {
   "cell_type": "code",
   "execution_count": 8,
   "metadata": {},
   "outputs": [
    {
     "name": "stdout",
     "output_type": "stream",
     "text": [
      "\n",
      "Суммарное число книг:  1033\n"
     ]
    }
   ],
   "source": [
    "print(\"\\nСуммарное число книг: \", len(books)) \n",
    "### результат расчета суммарного числа распарсенных книг соответствует указанному на сайте"
   ]
  },
  {
   "cell_type": "code",
   "execution_count": 9,
   "metadata": {},
   "outputs": [],
   "source": [
    "### сохранение общего списка в файл кодировкой, содержащей буквы русского алфавита\n",
    "with open(\"books_from_books.toscrape.com.json\", \"w\", encoding='utf-8') as f:\n",
    "        json.dump(books, f, indent=4, ensure_ascii=False)"
   ]
  }
 ],
 "metadata": {
  "kernelspec": {
   "display_name": "Python 3.11.5 64-bit",
   "language": "python",
   "name": "python3"
  },
  "language_info": {
   "codemirror_mode": {
    "name": "ipython",
    "version": 3
   },
   "file_extension": ".py",
   "mimetype": "text/x-python",
   "name": "python",
   "nbconvert_exporter": "python",
   "pygments_lexer": "ipython3",
   "version": "3.11.5"
  },
  "orig_nbformat": 4,
  "vscode": {
   "interpreter": {
    "hash": "5238573367df39f7286bb46f9ff5f08f63a01a80960060ce41e3c79b190280fa"
   }
  }
 },
 "nbformat": 4,
 "nbformat_minor": 2
}
