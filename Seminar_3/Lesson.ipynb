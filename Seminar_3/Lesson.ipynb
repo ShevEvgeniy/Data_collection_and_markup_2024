{
 "cells": [
  {
   "cell_type": "markdown",
   "metadata": {},
   "source": [
    "### Домашняя работа к уроку № 3:\n",
    "### Системы управления базами данных MongoDB и Кликхаус в Python\n",
    "\n",
    "1. Установите MongoDB на локальной машине, а также зарегистрируйтесь в онлайн-сервисе. https://www.mongodb.com/ https://www.mongodb.com/products/compass\n",
    "2. Загрузите данные который вы получили на предыдущем уроке путем скрейпинга сайта с помощью Buautiful Soup в MongoDB и создайте базу данных и коллекции для их хранения.\n",
    "3. Поэкспериментируйте с различными методами запросов.\n",
    "4. Зарегистрируйтесь в ClickHouse.\n",
    "5. Загрузите данные в ClickHouse и создайте таблицу для их хранения."
   ]
  },
  {
   "cell_type": "markdown",
   "metadata": {},
   "source": [
    "#### Выполнение задачи №2: Загрузите данные который вы получили на предыдущем уроке путем скрейпинга сайта с помощью Buautiful Soup в MongoDB и создайте базу данных и коллекции для их хранения."
   ]
  },
  {
   "cell_type": "code",
   "execution_count": 2,
   "metadata": {},
   "outputs": [],
   "source": [
    "import json\n",
    "from pymongo import MongoClient"
   ]
  },
  {
   "cell_type": "code",
   "execution_count": 3,
   "metadata": {},
   "outputs": [],
   "source": [
    "# Чтение данных из JSON файла\n",
    "with open(\"books_from_books.toscrape.com.json\", \"r\", encoding='utf-8') as file:\n",
    "    data = json.load(file)"
   ]
  },
  {
   "cell_type": "code",
   "execution_count": 4,
   "metadata": {},
   "outputs": [
    {
     "data": {
      "text/plain": [
       "{'Название': 'A Light in the Attic',\n",
       " 'Цена в фунтах стерлингов': 51.77,\n",
       " 'Количество в наличии': 22,\n",
       " 'Описание': \"\\n    It's hard to imagine a world without A Light in the Attic. This now-classic collection of poetry and drawings from Shel Silverstein celebrates its 20th anniversary with this special edition. Silverstein's humorous and creative verse can amuse the dowdiest of readers. Lemon-faced adults and fidgety kids sit still and read these rhythmic words and laugh and smile and love th It's hard to imagine a world without A Light in the Attic. This now-classic collection of poetry and drawings from Shel Silverstein celebrates its 20th anniversary with this special edition. Silverstein's humorous and creative verse can amuse the dowdiest of readers. Lemon-faced adults and fidgety kids sit still and read these rhythmic words and laugh and smile and love that Silverstein. Need proof of his genius? RockabyeRockabye baby, in the treetopDon't you know a treetopIs no safe place to rock?And who put you up there,And your cradle, too?Baby, I think someone down here'sGot it in for you. Shel, you never sounded so good. ...more\\n\"}"
      ]
     },
     "execution_count": 4,
     "metadata": {},
     "output_type": "execute_result"
    }
   ],
   "source": [
    "### Проверка загрузки на примере первой записи\n",
    "data[0]"
   ]
  },
  {
   "cell_type": "code",
   "execution_count": 5,
   "metadata": {},
   "outputs": [],
   "source": [
    "# Соединение с MongoDB\n",
    "client = MongoClient('localhost', 27017)\n",
    "db = client['my_books_database']"
   ]
  },
  {
   "cell_type": "code",
   "execution_count": 6,
   "metadata": {},
   "outputs": [],
   "source": [
    "# Создание коллекции на основании данных из JSON файла\n",
    "collection_name = \"Список книг от 12-03-2024\"\n",
    "for item in data:\n",
    "    collection = db[collection_name]\n",
    "    collection.insert_one(item)\n",
    "\n",
    "client.close()"
   ]
  },
  {
   "cell_type": "markdown",
   "metadata": {},
   "source": [
    "#### Выполнение задачи №3: Поэкспериментируйте с различными методами запросов."
   ]
  },
  {
   "cell_type": "code",
   "execution_count": 7,
   "metadata": {},
   "outputs": [],
   "source": [
    "# Установление связи с MongoDB\n",
    "client = MongoClient('localhost', 27017)\n",
    "db = client['my_books_database']\n",
    "collection = db['Список книг от 12-03-2024']"
   ]
  },
  {
   "cell_type": "code",
   "execution_count": 8,
   "metadata": {},
   "outputs": [
    {
     "name": "stdout",
     "output_type": "stream",
     "text": [
      "Количества документов в коллекции: 1033\n"
     ]
    }
   ],
   "source": [
    "#### Просмотр количества документов в коллекции\n",
    "document_count = collection.count_documents({})\n",
    "print(\"Количества документов в коллекции:\", document_count)"
   ]
  },
  {
   "cell_type": "code",
   "execution_count": 25,
   "metadata": {},
   "outputs": [
    {
     "name": "stdout",
     "output_type": "stream",
     "text": [
      "Количество книг дороже 50 фунтов -  204 :\n",
      "Название книги: A Light in the Attic\n",
      "Название книги: Tipping the Velvet\n",
      "Название книги: Soumission\n",
      "Название книги: Sapiens: A Brief History of Humankind\n",
      "Название книги: The Black Maria\n",
      "Название книги: Scott Pilgrim's Precious Little Life (Scott Pilgrim #1)\n",
      "Название книги: Our Band Could Be Your Life: Scenes from the American Indie Underground, 1981-1991\n",
      "Название книги: Libertarianism for Beginners\n",
      "Название книги: Birdsong: A Story in Pictures\n",
      "Название книги: Aladdin and His Wonderful Lamp\n",
      "Название книги: Behind Closed Doors\n",
      "Название книги: Slow States of Collapse: Poems\n",
      "Название книги: We Love You, Charlie Freeman\n",
      "Название книги: The Secret of Dreadwillow Carse\n",
      "Название книги: The Pioneer Woman Cooks: Dinnertime: Comfort Classics, Freezer Food, 16-Minute Meals, and Other Delicious Ways to Solve Supper!\n",
      "Название книги: The Past Never Ends\n",
      "Название книги: The Murder That Never Was (Forensic Instincts #5)\n",
      "Название книги: The Electric Pencil: Drawings from Inside State Hospital No. 3\n",
      "Название книги: The Death of Humanity: and the Case for Life\n",
      "Название книги: Saga, Volume 5 (Saga (Collected Editions) #5)\n",
      "Название книги: Rat Queens, Vol. 3: Demons (Rat Queens (Collected Editions) #11-15)\n",
      "Название книги: Masks and Shadows\n",
      "Название книги: Judo: Seven Steps to Black Belt (an Introductory Guide for Beginners)\n",
      "Название книги: Immunity: How Elie Metchnikoff Changed the Course of Modern Medicine\n",
      "Название книги: I am a Hero Omnibus Volume 1\n",
      "Название книги: Everydata: The Misinformation Hidden in the Little Data You Consume Every Day\n",
      "Название книги: Danganronpa Volume 1\n",
      "Название книги: A Piece of Sky, a Grain of Rice: A Memoir in Four Meditations\n",
      "Название книги: A Flight of Arrows (The Pathfinders #2)\n",
      "Название книги: A Court of Thorns and Roses (A Court of Thorns and Roses #1)\n",
      "Название книги: (Un)Qualified: How God Uses Broken People to Do Big Things\n",
      "Название книги: Thomas Jefferson and the Tripoli Pirates: The Forgotten War That Changed American History\n",
      "Название книги: Thirteen Reasons Why\n",
      "Название книги: The White Cat and the Monk: A Retelling of the Poem âPangur BÃ¡nâ\n",
      "Название книги: The Regional Office Is Under Attack!\n",
      "Название книги: The Matchmaker's Playbook (Wingmen Inc. #1)\n",
      "Название книги: The Girl on the Train\n",
      "Название книги: Suddenly in Love (Lake Haven #1)\n",
      "Название книги: I Had a Nice Time And Other Lies...: How to find love & sh*t like that\n",
      "Название книги: Finders Keepers (Bill Hodges Trilogy #2)\n",
      "Название книги: Eureka Trivia 6.0\n",
      "Название книги: Amatus\n",
      "Название книги: Why the Right Went Wrong: Conservatism--From Goldwater to the Tea Party and Beyond\n",
      "Название книги: We Are Robin, Vol. 1: The Vigilante Business (We Are Robin #1)\n",
      "Название книги: The Wright Brothers\n",
      "Название книги: The Testament of Mary\n",
      "Название книги: The Rosie Project (Don Tillman #1)\n",
      "Название книги: The Last Mile (Amos Decker #2)\n",
      "Название книги: The Hidden Oracle (The Trials of Apollo #1)\n",
      "Название книги: Someone Like You (The Harrisons #2)\n",
      "Название книги: Shtum\n",
      "Название книги: Quarter Life Poetry: Poems for the Young, Broke and Hangry\n",
      "Название книги: Overload: How to Unplug, Unwind, and Unleash Yourself from the Pressure of Stress\n",
      "Название книги: Luis Paints the World\n",
      "Название книги: Lowriders to the Center of the Earth (Lowriders in Space #2)\n",
      "Название книги: Hamilton: The Revolution\n",
      "Название книги: El Deafo\n",
      "Название книги: Eaternity: More than 150 Deliciously Easy Vegan Recipes for a Long, Healthy, Satisfied, Joyful Life\n",
      "Название книги: Eat Fat, Get Thin\n",
      "Название книги: Don't Get Caught\n",
      "Название книги: City of Glass (The Mortal Instruments #3)\n",
      "Название книги: Catching Jordan (Hundred Oaks)\n",
      "Название книги: Barefoot Contessa at Home: Everyday Recipes You'll Make Over and Over Again\n",
      "Название книги: Aristotle and Dante Discover the Secrets of the Universe (Aristotle and Dante Discover the Secrets of the Universe #1)\n",
      "Название книги: Angels & Demons (Robert Langdon #1)\n",
      "Название книги: Abstract City\n",
      "Название книги: A Series of Catastrophes and Miracles: A True Story of Love, Science, and Cancer\n",
      "Название книги: A Brush of Wings (Angels Walking #3)\n",
      "Название книги: The Gray Rhino: How to Recognize and Act on the Obvious Dangers We Ignore\n",
      "Название книги: The Dinner Party\n",
      "Название книги: The Diary of a Young Girl\n",
      "Название книги: No Love Allowed (Dodge Cove #1)\n",
      "Название книги: Murder at the 42nd Street Library (Raymond Ambler #1)\n",
      "Название книги: How to Speak Golf: An Illustrated Guide to Links Lingo\n",
      "Название книги: Equal Is Unfair: America's Misguided Fight Against Income Inequality\n",
      "Название книги: Eleanor & Park\n",
      "Название книги: Boar Island (Anna Pigeon #19)\n",
      "Название книги: The Improbability of Love\n",
      "Название книги: Take Me Home Tonight (Rock Star Romance #3)\n",
      "Название книги: It Didn't Start with You: How Inherited Family Trauma Shapes Who We Are and How to End the Cycle\n",
      "Название книги: Exit, Pursued by a Bear\n",
      "Название книги: Watchmen\n",
      "Название книги: Unlimited Intuition Now\n",
      "Название книги: The Fabric of the Cosmos: Space, Time, and the Texture of Reality\n",
      "Название книги: The Art and Science of Low Carbohydrate Living\n",
      "Название книги: The Alien Club\n",
      "Название книги: Suzie Snowflake: One beautiful flake (a self-esteem story)\n",
      "Название книги: A Shard of Ice (The Black Symphony Saga #1)\n",
      "Название книги: A Hero's Curse (The Unseen Chronicles #1)\n",
      "Название книги: The High Mountains of Portugal\n",
      "Название книги: Silence in the Dark (Logan Point #4)\n",
      "Название книги: Proofs of God: Classical Arguments from Tertullian to Barth\n",
      "Название книги: Out of Print: City Lights Spotlight No. 14\n",
      "Название книги: Miller's Valley\n",
      "Название книги: I'll Give You the Sun\n",
      "Название книги: Heaven is for Real: A Little Boy's Astounding Story of His Trip to Heaven and Back\n",
      "Название книги: Future Shock (Future Shock #1)\n",
      "Название книги: Between the World and Me\n",
      "Название книги: Being Mortal: Medicine and What Matters in the End\n",
      "Название книги: 32 Yolks\n",
      "Название книги: The Bachelor Girl's Guide to Murder (Herringford and Watts Mysteries #1)\n",
      "Название книги: Shrunken Treasures: Literary Classics, Short, Sweet, and Silly\n",
      "Название книги: Rich Dad, Poor Dad\n",
      "Название книги: Nightstruck: A Novel\n",
      "Название книги: Leave This Song Behind: Teen Poetry at Its Best\n",
      "Название книги: John Adams\n",
      "Название книги: Chronicles, Vol. 1\n",
      "Название книги: A Short History of Nearly Everything\n",
      "Название книги: The Sound Of Love\n",
      "Название книги: The Perks of Being a Wallflower\n",
      "Название книги: The Man Who Mistook His Wife for a Hat and Other Clinical Tales\n",
      "Название книги: The Barefoot Contessa Cookbook\n",
      "Название книги: Tell the Wolves I'm Home\n",
      "Название книги: Fun Home: A Family Tragicomic\n",
      "Название книги: Catherine the Great: Portrait of a Woman\n",
      "Название книги: A Year in Provence (Provence #1)\n",
      "Название книги: What If?: Serious Scientific Answers to Absurd Hypothetical Questions\n",
      "Название книги: The Raven Boys (The Raven Cycle #1)\n",
      "Название книги: The Hiding Place\n",
      "Название книги: The False Prince (The Ascendance Trilogy #1)\n",
      "Название книги: Last One Home (New Beginnings #1)\n",
      "Название книги: Digital Fortress\n",
      "Название книги: Death Note, Vol. 5: Whiteout (Death Note #5)\n",
      "Название книги: Approval Junkie: Adventures in Caring Too Much\n",
      "Название книги: America's War for the Greater Middle East: A Military History\n",
      "Название книги: Alight (The Generations Trilogy #2)\n",
      "Название книги: Vogue Colors A to Z: A Fashion Coloring Book\n",
      "Название книги: The Pilgrim's Progress\n",
      "Название книги: The Perfect Play (Play by Play #1)\n",
      "Название книги: The Demonists (Demonist #1)\n",
      "Название книги: The Bone Hunters (Lexy Vaughan & Steven Macaulay #2)\n",
      "Название книги: Fruits Basket, Vol. 4 (Fruits Basket #4)\n",
      "Название книги: Candide\n",
      "Название книги: Animal Farm\n",
      "Название книги: A Walk to Remember\n",
      "Название книги: A New Earth: Awakening to Your Life's Purpose\n",
      "Название книги: Very Good Lives: The Fringe Benefits of Failure and the Importance of Imagination\n",
      "Название книги: Unstuffed: Decluttering Your Home, Mind, and Soul\n",
      "Название книги: Trespassing Across America: One Man's Epic, Never-Done-Before (and Sort of Illegal) Hike Across the Heartland\n",
      "Название книги: The Wild Robot\n",
      "Название книги: The Stand\n",
      "Название книги: The Sandman, Vol. 3: Dream Country (The Sandman (volumes) #3)\n",
      "Название книги: The Rose & the Dagger (The Wrath and the Dawn #2)\n",
      "Название книги: The Nanny Diaries (Nanny #1)\n",
      "Название книги: The Lover's Dictionary\n",
      "Название книги: The Last Painting of Sara de Vos\n",
      "Название книги: The Husband's Secret\n",
      "Название книги: The Girl Who Kicked the Hornet's Nest (Millennium Trilogy #3)\n",
      "Название книги: The Disappearing Spoon: And Other True Tales of Madness, Love, and the History of the World from the Periodic Table of the Elements\n",
      "Название книги: The Demon-Haunted World: Science as a Candle in the Dark\n",
      "Название книги: The Book Thief\n",
      "Название книги: The Blind Side: Evolution of a Game\n",
      "Название книги: Something Blue (Darcy & Rachel #2)\n",
      "Название книги: Seven Days in the Art World\n",
      "Название книги: Rogue Lawyer (Rogue Lawyer #1)\n",
      "Название книги: Packing for Mars: The Curious Science of Life in the Void\n",
      "Название книги: Miracles from Heaven: A Little Girl, Her Journey to Heaven, and Her Amazing Story of Healing\n",
      "Название книги: Midnight Riot (Peter Grant/ Rivers of London - books #1)\n",
      "Название книги: Me Talk Pretty One Day\n",
      "Название книги: Life Without a Recipe\n",
      "Название книги: Miracles from Heaven: A Little Girl, Her Journey to Heaven, and Her Amazing Story of Healing\n",
      "Название книги: Midnight Riot (Peter Grant/ Rivers of London - books #1)\n",
      "Название книги: Me Talk Pretty One Day\n",
      "Название книги: Life Without a Recipe\n",
      "Название книги: Lamb: The Gospel According to Biff, Christ's Childhood Pal\n",
      "Название книги: Lady Renegades (Rebel Belle #3)\n",
      "Название книги: Into the Wild\n",
      "Название книги: House of Leaves\n",
      "Название книги: Holidays on Ice\n",
      "Название книги: Friday Night Lights: A Town, a Team, and a Dream\n",
      "Название книги: Dune (Dune #1)\n",
      "Название книги: Dracula\n",
      "Название книги: Do Androids Dream of Electric Sheep? (Blade Runner #1)\n",
      "Название книги: Darkfever (Fever #1)\n",
      "Название книги: Civilization and Its Discontents\n",
      "Название книги: Brave Enough\n",
      "Название книги: Are We Smart Enough to Know How Smart Animals Are?\n",
      "Название книги: A Heartbreaking Work of Staggering Genius\n",
      "Название книги: #GIRLBOSS\n",
      "Название книги: The Sandman, Vol. 2: The Doll's House (The Sandman (volumes) #2)\n",
      "Название книги: H is for Hawk\n",
      "Название книги: Girl Online On Tour (Girl Online #2)\n",
      "Название книги: Diary of a Minecraft Zombie Book 1: A Scare of a Dare (An Unofficial Minecraft Book)\n",
      "Название книги: When I'm Gone\n",
      "Название книги: Vampire Girl (Vampire Girl #1)\n",
      "Название книги: Travels with Charley: In Search of America\n",
      "Название книги: The Sandman, Vol. 1: Preludes and Nocturnes (The Sandman (volumes) #1)\n",
      "Название книги: The No. 1 Ladies' Detective Agency (No. 1 Ladies' Detective Agency #1)\n",
      "Название книги: The Name of the Wind (The Kingkiller Chronicle #1)\n",
      "Название книги: The Light of the Fireflies\n",
      "Название книги: The Bhagavad Gita\n",
      "Название книги: Shameless\n",
      "Название книги: The Bhagavad Gita\n",
      "Название книги: Shameless\n",
      "Название книги: One Second (Seven #7)\n",
      "Название книги: Old Records Never Die: One Man's Quest for His Vinyl and His Past\n",
      "Название книги: Myriad (Prentor #1)\n",
      "Название книги: Listen to Me (Fusion #1)\n",
      "Название книги: Kitchens of the Great Midwest\n",
      "Название книги: Giant Days, Vol. 1 (Giant Days #1-4)\n",
      "Название книги: Eat, Pray, Love\n",
      "Название книги: Alice in Wonderland (Alice's Adventures in Wonderland #1)\n",
      "Название книги: Ajin: Demi-Human, Volume 1 (Ajin: Demi-Human #1)\n",
      "Название книги: 1st to Die (Women's Murder Club #1)\n"
     ]
    }
   ],
   "source": [
    "# Запрос количества и названий книг, дороже 50 фунтов\n",
    "query = {\"Цена в фунтах стерлингов\": {\"$gt\": 50.0}}\n",
    "\n",
    "# Получения документов, соответствующих запросу\n",
    "documents = collection.find(query)\n",
    "\n",
    "print(\"Количество книг дороже 50 фунтов - \", collection.count_documents(query), \":\")\n",
    "\n",
    "# Отображение названий книг\n",
    "for document in documents:\n",
    "    print(\"Название книги:\", document['Название'])"
   ]
  },
  {
   "cell_type": "code",
   "execution_count": 26,
   "metadata": {},
   "outputs": [
    {
     "name": "stdout",
     "output_type": "stream",
     "text": [
      "Минимальная цена: 10.0\n",
      "Максимальная цена: 59.99\n"
     ]
    }
   ],
   "source": [
    "### Запрос для определения максимальной и минимальной цены книги в коллекции\n",
    "\n",
    "# Определение конвеера для агрегации данных\n",
    "pipeline = [\n",
    "    {\"$group\": {\"_id\": None, \"max_price\": {\"$max\": \"$Цена в фунтах стерлингов\"}, \"min_price\": {\"$min\": \"$Цена в фунтах стерлингов\"}}}\n",
    "]\n",
    "\n",
    "# Применение конвеера\n",
    "result = list(collection.aggregate(pipeline))\n",
    "\n",
    "# Получение минимального и максимального значений\n",
    "max_price = result[0][\"max_price\"]\n",
    "min_price = result[0][\"min_price\"]\n",
    "\n",
    "# Печать результатов\n",
    "print(\"Минимальная цена:\", min_price)\n",
    "print(\"Максимальная цена:\", max_price)\n"
   ]
  },
  {
   "cell_type": "code",
   "execution_count": 28,
   "metadata": {},
   "outputs": [
    {
     "name": "stdout",
     "output_type": "stream",
     "text": [
      "Категория по стоимости: Низкая стоимость\n",
      "Количество в наличии: 925\n",
      "\n",
      "Категория по стоимости: Высокая стоимость\n",
      "Количество в наличии: 6004\n",
      "\n",
      "Категория по стоимости: Средная стоимость\n",
      "Количество в наличии: 1727\n",
      "\n",
      "Общее количество книг в наличии: 8656\n"
     ]
    }
   ],
   "source": [
    "# Создание конвеера для разбиения всех книг по стоимости на три категории: низкая стоимость (дешевле 15 фунтов), средня стоимость (от 15 до 25 фунтов) и высокая стоимость (выше 25 фунтов). Затем подсчет количества книг в каждой категории агрегацией по полю \"Количество в наличии\"\n",
    "pipeline_by_group = [\n",
    "    {\n",
    "        \"$group\": {\n",
    "            \"_id\": {\n",
    "                \"$cond\": {\n",
    "                    \"if\": {\"$lte\": [\"$Цена в фунтах стерлингов\", 15]},\n",
    "                    \"then\": \"Низкая стоимость\",\n",
    "                    \"else\": {\n",
    "                        \"$cond\": {\n",
    "                            \"if\": {\"$lte\": [\"$Цена в фунтах стерлингов\", 25]},\n",
    "                            \"then\": \"Средная стоимость\",\n",
    "                            \"else\": \"Высокая стоимость\"\n",
    "                        }\n",
    "                    }\n",
    "                }\n",
    "            },\n",
    "            \"Количество в наличии\": {\"$sum\": \"$Количество в наличии\"}\n",
    "        }\n",
    "    }\n",
    "]\n",
    "\n",
    "# Выполнение конвеера\n",
    "result_by_group = list(collection.aggregate(pipeline_by_group))\n",
    "\n",
    "# Печать результатов\n",
    "for category in result_by_group:\n",
    "    print(\"Категория по стоимости:\", category[\"_id\"])\n",
    "    print(\"Количество в наличии:\", category[\"Количество в наличии\"])\n",
    "    print()\n",
    "\n",
    "# Создание конвеера для определения суммарного количества всех книг по полю \"Количество в наличии\"\n",
    "pipeline_total_count = [\n",
    "    {\n",
    "        \"$group\": {\n",
    "            \"_id\": None,\n",
    "            \"total_count\": {\"$sum\": \"$Количество в наличии\"}\n",
    "        }\n",
    "    }\n",
    "]\n",
    "\n",
    "# Выполнение конвеера\n",
    "result_total_count = list(collection.aggregate(pipeline_total_count))\n",
    "\n",
    "# Отображение результата\n",
    "total_count = result_total_count[0]['total_count'] if result_total_count else 0\n",
    "print(\"Общее количество книг в наличии:\", total_count) #### совпадает с суммой книг в наличии по категориям стоимости"
   ]
  }
 ],
 "metadata": {
  "kernelspec": {
   "display_name": "Python 3.11.5 64-bit",
   "language": "python",
   "name": "python3"
  },
  "language_info": {
   "codemirror_mode": {
    "name": "ipython",
    "version": 3
   },
   "file_extension": ".py",
   "mimetype": "text/x-python",
   "name": "python",
   "nbconvert_exporter": "python",
   "pygments_lexer": "ipython3",
   "version": "3.12.0"
  },
  "orig_nbformat": 4,
  "vscode": {
   "interpreter": {
    "hash": "5238573367df39f7286bb46f9ff5f08f63a01a80960060ce41e3c79b190280fa"
   }
  }
 },
 "nbformat": 4,
 "nbformat_minor": 2
}
